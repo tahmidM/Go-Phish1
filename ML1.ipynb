{
 "cells": [
  {
   "cell_type": "code",
   "execution_count": 1,
   "id": "ba098eba",
   "metadata": {},
   "outputs": [],
   "source": [
    "from sklearn.linear_model import LogisticRegression \n",
    "from sklearn.naive_bayes import MultinomialNB \n",
    "from sklearn.model_selection import train_test_split \n",
    "from sklearn.metrics import classification_report \n",
    "from sklearn.metrics import confusion_matrix \n",
    "from nltk.tokenize import RegexpTokenizer \n",
    "from nltk.stem.snowball import SnowballStemmer\n",
    "from nltk.stem import PorterStemmer\n",
    "from sklearn.feature_extraction.text import CountVectorizer  \n",
    "from sklearn.pipeline import make_pipeline \n",
    "from PIL import Image\n",
    "from bs4 import BeautifulSoup \n",
    "from selenium import webdriver \n",
    "from sklearn.ensemble import GradientBoostingClassifier\n",
    "import pandas as pd \n",
    "import numpy as np \n",
    "import seaborn as sns \n",
    "import matplotlib.pyplot as plt \n",
    "%matplotlib inline \n",
    "import time\n",
    "import networkx as nx \n",
    "import pickle\n",
    "import warnings # ignores pink warnings \n",
    "warnings.filterwarnings('ignore')\n",
    "\n",
    "from sklearn.feature_extraction.text import TfidfVectorizer\n",
    "from sklearn.model_selection import train_test_split\n",
    "from sklearn.svm import SVC\n",
    "from sklearn.metrics import classification_report\n",
    "from sklearn.neighbors import KNeighborsClassifier\n",
    "\n",
    "#isntalling all packages needed here "
   ]
  },
  {
   "cell_type": "code",
   "execution_count": 2,
   "id": "74695b7b",
   "metadata": {},
   "outputs": [],
   "source": [
    "#dataset is used from - https://www.kaggle.com/datasets/taruntiwarihp/phishing-site-urls"
   ]
  },
  {
   "cell_type": "code",
   "execution_count": 3,
   "id": "d89247c4",
   "metadata": {},
   "outputs": [],
   "source": [
    "dataset = pd.read_csv('phishing_site_urls.csv')"
   ]
  },
  {
   "cell_type": "code",
   "execution_count": 4,
   "id": "74962313",
   "metadata": {},
   "outputs": [
    {
     "data": {
      "text/html": [
       "<div>\n",
       "<style scoped>\n",
       "    .dataframe tbody tr th:only-of-type {\n",
       "        vertical-align: middle;\n",
       "    }\n",
       "\n",
       "    .dataframe tbody tr th {\n",
       "        vertical-align: top;\n",
       "    }\n",
       "\n",
       "    .dataframe thead th {\n",
       "        text-align: right;\n",
       "    }\n",
       "</style>\n",
       "<table border=\"1\" class=\"dataframe\">\n",
       "  <thead>\n",
       "    <tr style=\"text-align: right;\">\n",
       "      <th></th>\n",
       "      <th>url</th>\n",
       "      <th>Label</th>\n",
       "    </tr>\n",
       "  </thead>\n",
       "  <tbody>\n",
       "    <tr>\n",
       "      <th>0</th>\n",
       "      <td>nobell.it/70ffb52d079109dca5664cce6f317373782/...</td>\n",
       "      <td>bad</td>\n",
       "    </tr>\n",
       "    <tr>\n",
       "      <th>1</th>\n",
       "      <td>www.dghjdgf.com/paypal.co.uk/cycgi-bin/webscrc...</td>\n",
       "      <td>bad</td>\n",
       "    </tr>\n",
       "    <tr>\n",
       "      <th>2</th>\n",
       "      <td>serviciosbys.com/paypal.cgi.bin.get-into.herf....</td>\n",
       "      <td>bad</td>\n",
       "    </tr>\n",
       "    <tr>\n",
       "      <th>3</th>\n",
       "      <td>mail.printakid.com/www.online.americanexpress....</td>\n",
       "      <td>bad</td>\n",
       "    </tr>\n",
       "    <tr>\n",
       "      <th>4</th>\n",
       "      <td>thewhiskeydregs.com/wp-content/themes/widescre...</td>\n",
       "      <td>bad</td>\n",
       "    </tr>\n",
       "  </tbody>\n",
       "</table>\n",
       "</div>"
      ],
      "text/plain": [
       "                                                 url Label\n",
       "0  nobell.it/70ffb52d079109dca5664cce6f317373782/...   bad\n",
       "1  www.dghjdgf.com/paypal.co.uk/cycgi-bin/webscrc...   bad\n",
       "2  serviciosbys.com/paypal.cgi.bin.get-into.herf....   bad\n",
       "3  mail.printakid.com/www.online.americanexpress....   bad\n",
       "4  thewhiskeydregs.com/wp-content/themes/widescre...   bad"
      ]
     },
     "execution_count": 4,
     "metadata": {},
     "output_type": "execute_result"
    }
   ],
   "source": [
    "dataset.head() #reading first 5 urls from csv"
   ]
  },
  {
   "cell_type": "code",
   "execution_count": 5,
   "id": "4eade36e",
   "metadata": {},
   "outputs": [
    {
     "data": {
      "text/html": [
       "<div>\n",
       "<style scoped>\n",
       "    .dataframe tbody tr th:only-of-type {\n",
       "        vertical-align: middle;\n",
       "    }\n",
       "\n",
       "    .dataframe tbody tr th {\n",
       "        vertical-align: top;\n",
       "    }\n",
       "\n",
       "    .dataframe thead th {\n",
       "        text-align: right;\n",
       "    }\n",
       "</style>\n",
       "<table border=\"1\" class=\"dataframe\">\n",
       "  <thead>\n",
       "    <tr style=\"text-align: right;\">\n",
       "      <th></th>\n",
       "      <th>url</th>\n",
       "      <th>Label</th>\n",
       "    </tr>\n",
       "  </thead>\n",
       "  <tbody>\n",
       "    <tr>\n",
       "      <th>549342</th>\n",
       "      <td>23.227.196.215/</td>\n",
       "      <td>bad</td>\n",
       "    </tr>\n",
       "    <tr>\n",
       "      <th>549343</th>\n",
       "      <td>apple-checker.org/</td>\n",
       "      <td>bad</td>\n",
       "    </tr>\n",
       "    <tr>\n",
       "      <th>549344</th>\n",
       "      <td>apple-iclods.org/</td>\n",
       "      <td>bad</td>\n",
       "    </tr>\n",
       "    <tr>\n",
       "      <th>549345</th>\n",
       "      <td>apple-uptoday.org/</td>\n",
       "      <td>bad</td>\n",
       "    </tr>\n",
       "    <tr>\n",
       "      <th>549346</th>\n",
       "      <td>apple-search.info</td>\n",
       "      <td>bad</td>\n",
       "    </tr>\n",
       "  </tbody>\n",
       "</table>\n",
       "</div>"
      ],
      "text/plain": [
       "                       url Label\n",
       "549342     23.227.196.215/   bad\n",
       "549343  apple-checker.org/   bad\n",
       "549344   apple-iclods.org/   bad\n",
       "549345  apple-uptoday.org/   bad\n",
       "549346   apple-search.info   bad"
      ]
     },
     "execution_count": 5,
     "metadata": {},
     "output_type": "execute_result"
    }
   ],
   "source": [
    "dataset.tail() #last 5"
   ]
  },
  {
   "cell_type": "code",
   "execution_count": 6,
   "id": "7ee20209",
   "metadata": {},
   "outputs": [
    {
     "name": "stdout",
     "output_type": "stream",
     "text": [
      "<class 'pandas.core.frame.DataFrame'>\n",
      "RangeIndex: 549347 entries, 0 to 549346\n",
      "Data columns (total 2 columns):\n",
      " #   Column  Non-Null Count   Dtype \n",
      "---  ------  --------------   ----- \n",
      " 0   url     549347 non-null  object\n",
      " 1   Label   549347 non-null  object\n",
      "dtypes: object(2)\n",
      "memory usage: 8.4+ MB\n"
     ]
    }
   ],
   "source": [
    "dataset.info() #infromation about csv"
   ]
  },
  {
   "cell_type": "code",
   "execution_count": 7,
   "id": "b3e09f7f",
   "metadata": {},
   "outputs": [],
   "source": [
    "label_counts = pd.DataFrame(dataset.Label.value_counts())"
   ]
  },
  {
   "cell_type": "code",
   "execution_count": 8,
   "id": "d0cf6a09",
   "metadata": {},
   "outputs": [
    {
     "data": {
      "text/plain": [
       "<Axes: xlabel='Label', ylabel='count'>"
      ]
     },
     "execution_count": 8,
     "metadata": {},
     "output_type": "execute_result"
    },
    {
     "data": {
      "image/png": "[encoded data removed]",
      "text/plain": [
       "<Figure size 640x480 with 1 Axes>"
      ]
     },
     "metadata": {},
     "output_type": "display_data"
    }
   ],
   "source": [
    "sns.set_style('darkgrid')\n",
    "sns.barplot(x=label_counts.index, y=label_counts['count'])"
   ]
  },
  {
   "cell_type": "code",
   "execution_count": 9,
   "id": "9174cbff",
   "metadata": {},
   "outputs": [],
   "source": [
    "#everything before this was just proving dataset exists and "
   ]
  },
  {
   "cell_type": "code",
   "execution_count": null,
   "id": "e34e11ad",
   "metadata": {},
   "outputs": [],
   "source": []
  },
  {
   "cell_type": "markdown",
   "id": "648117b8",
   "metadata": {},
   "source": [
    "Preprocessing first step is converting URLs into vector forms, so breaking down the ULR into individual words"
   ]
  },
  {
   "cell_type": "code",
   "execution_count": 10,
   "id": "7320ef0f",
   "metadata": {},
   "outputs": [],
   "source": [
    "tokenizer = RegexpTokenizer(r'[A-Za-z]+')"
   ]
  },
  {
   "cell_type": "code",
   "execution_count": 11,
   "id": "0f004aa8",
   "metadata": {},
   "outputs": [
    {
     "data": {
      "text/plain": [
       "'nobell.it/70ffb52d079109dca5664cce6f317373782/login.SkyPe.com/en/cgi-bin/verification/login/70ffb52d079109dca5664cce6f317373/index.php?cmd=_profile-ach&outdated_page_tmpl=p/gen/failed-to-load&nav=0.5.1&login_access=1322408526'"
      ]
     },
     "execution_count": 11,
     "metadata": {},
     "output_type": "execute_result"
    }
   ],
   "source": [
    "dataset.url[0]"
   ]
  },
  {
   "cell_type": "code",
   "execution_count": 12,
   "id": "2fa88c21",
   "metadata": {},
   "outputs": [
    {
     "data": {
      "text/plain": [
       "['nobell',\n",
       " 'it',\n",
       " 'ffb',\n",
       " 'd',\n",
       " 'dca',\n",
       " 'cce',\n",
       " 'f',\n",
       " 'login',\n",
       " 'SkyPe',\n",
       " 'com',\n",
       " 'en',\n",
       " 'cgi',\n",
       " 'bin',\n",
       " 'verification',\n",
       " 'login',\n",
       " 'ffb',\n",
       " 'd',\n",
       " 'dca',\n",
       " 'cce',\n",
       " 'f',\n",
       " 'index',\n",
       " 'php',\n",
       " 'cmd',\n",
       " 'profile',\n",
       " 'ach',\n",
       " 'outdated',\n",
       " 'page',\n",
       " 'tmpl',\n",
       " 'p',\n",
       " 'gen',\n",
       " 'failed',\n",
       " 'to',\n",
       " 'load',\n",
       " 'nav',\n",
       " 'login',\n",
       " 'access']"
      ]
     },
     "execution_count": 12,
     "metadata": {},
     "output_type": "execute_result"
    }
   ],
   "source": [
    "# this will be pull words from the URL\n",
    "tokenizer.tokenize(dataset.url[0]) # using first row"
   ]
  },
  {
   "cell_type": "code",
   "execution_count": 13,
   "id": "e596ad33",
   "metadata": {},
   "outputs": [
    {
     "name": "stdout",
     "output_type": "stream",
     "text": [
      "Tokenising Words ...\n",
      "Time taken 2.631815300323069 sec\n"
     ]
    }
   ],
   "source": [
    "#calculating time taken to tokenise words\n",
    "print('Tokenising Words ...')\n",
    "t0= time.perf_counter()\n",
    "dataset['text_tokenized'] = dataset.url.map(lambda t: tokenizer.tokenize(t)) # doing with all rows\n",
    "t1 = time.perf_counter() - t0\n",
    "print('Time taken',t1 ,'sec')"
   ]
  },
  {
   "cell_type": "code",
   "execution_count": 14,
   "id": "2973f47d",
   "metadata": {},
   "outputs": [
    {
     "data": {
      "text/html": [
       "<div>\n",
       "<style scoped>\n",
       "    .dataframe tbody tr th:only-of-type {\n",
       "        vertical-align: middle;\n",
       "    }\n",
       "\n",
       "    .dataframe tbody tr th {\n",
       "        vertical-align: top;\n",
       "    }\n",
       "\n",
       "    .dataframe thead th {\n",
       "        text-align: right;\n",
       "    }\n",
       "</style>\n",
       "<table border=\"1\" class=\"dataframe\">\n",
       "  <thead>\n",
       "    <tr style=\"text-align: right;\">\n",
       "      <th></th>\n",
       "      <th>url</th>\n",
       "      <th>Label</th>\n",
       "      <th>text_tokenized</th>\n",
       "    </tr>\n",
       "  </thead>\n",
       "  <tbody>\n",
       "    <tr>\n",
       "      <th>121936</th>\n",
       "      <td>imajseslendirme.com/fancybox/drive/</td>\n",
       "      <td>bad</td>\n",
       "      <td>[imajseslendirme, com, fancybox, drive]</td>\n",
       "    </tr>\n",
       "    <tr>\n",
       "      <th>22096</th>\n",
       "      <td>www.cnhedge.cn/js/index.htm?us.battle.net/logi...</td>\n",
       "      <td>bad</td>\n",
       "      <td>[www, cnhedge, cn, js, index, htm, us, battle,...</td>\n",
       "    </tr>\n",
       "    <tr>\n",
       "      <th>56895</th>\n",
       "      <td>www.tx.ncsu.edu/jtatm/volume5issue4/Articles/T...</td>\n",
       "      <td>good</td>\n",
       "      <td>[www, tx, ncsu, edu, jtatm, volume, issue, Art...</td>\n",
       "    </tr>\n",
       "    <tr>\n",
       "      <th>153476</th>\n",
       "      <td>btjunkie.org/torrent/Alias-The-Soundtrack-Best...</td>\n",
       "      <td>good</td>\n",
       "      <td>[btjunkie, org, torrent, Alias, The, Soundtrac...</td>\n",
       "    </tr>\n",
       "    <tr>\n",
       "      <th>342509</th>\n",
       "      <td>freebase.com/view/en/steve_fuchs</td>\n",
       "      <td>good</td>\n",
       "      <td>[freebase, com, view, en, steve, fuchs]</td>\n",
       "    </tr>\n",
       "  </tbody>\n",
       "</table>\n",
       "</div>"
      ],
      "text/plain": [
       "                                                      url Label  \\\n",
       "121936                imajseslendirme.com/fancybox/drive/   bad   \n",
       "22096   www.cnhedge.cn/js/index.htm?us.battle.net/logi...   bad   \n",
       "56895   www.tx.ncsu.edu/jtatm/volume5issue4/Articles/T...  good   \n",
       "153476  btjunkie.org/torrent/Alias-The-Soundtrack-Best...  good   \n",
       "342509                   freebase.com/view/en/steve_fuchs  good   \n",
       "\n",
       "                                           text_tokenized  \n",
       "121936            [imajseslendirme, com, fancybox, drive]  \n",
       "22096   [www, cnhedge, cn, js, index, htm, us, battle,...  \n",
       "56895   [www, tx, ncsu, edu, jtatm, volume, issue, Art...  \n",
       "153476  [btjunkie, org, torrent, Alias, The, Soundtrac...  \n",
       "342509            [freebase, com, view, en, steve, fuchs]  "
      ]
     },
     "execution_count": 14,
     "metadata": {},
     "output_type": "execute_result"
    }
   ],
   "source": [
    "dataset.sample(5) #just testing that the URLS have been vectorised"
   ]
  },
  {
   "cell_type": "code",
   "execution_count": null,
   "id": "ca232265",
   "metadata": {},
   "outputs": [],
   "source": []
  },
  {
   "cell_type": "markdown",
   "id": "4933ad73",
   "metadata": {},
   "source": [
    "HERE I am using snoballStemmer to get the root word - This process helps in normalizing the URL and reducing its dimensionality, making it easier for machine learning models to analyze and classify malicious URLs effectively."
   ]
  },
  {
   "cell_type": "code",
   "execution_count": 15,
   "id": "7f518c1a",
   "metadata": {},
   "outputs": [],
   "source": [
    "#Snowball stemmer \n",
    "stemmer = PorterStemmer()"
   ]
  },
  {
   "cell_type": "code",
   "execution_count": 16,
   "id": "106e4fb4",
   "metadata": {},
   "outputs": [
    {
     "name": "stdout",
     "output_type": "stream",
     "text": [
      "Getting words stemmed ...\n",
      "Time taken 62.25297310017049 sec\n"
     ]
    }
   ],
   "source": [
    "print('Getting words stemmed ...')\n",
    "t0= time.perf_counter()\n",
    "dataset['text_stemmed'] = dataset['text_tokenized'].map(lambda l: [stemmer.stem(word) for word in l])\n",
    "t1= time.perf_counter() - t0\n",
    "print('Time taken',t1 ,'sec')"
   ]
  },
  {
   "cell_type": "code",
   "execution_count": 17,
   "id": "95c5fce3",
   "metadata": {},
   "outputs": [
    {
     "data": {
      "text/html": [
       "<div>\n",
       "<style scoped>\n",
       "    .dataframe tbody tr th:only-of-type {\n",
       "        vertical-align: middle;\n",
       "    }\n",
       "\n",
       "    .dataframe tbody tr th {\n",
       "        vertical-align: top;\n",
       "    }\n",
       "\n",
       "    .dataframe thead th {\n",
       "        text-align: right;\n",
       "    }\n",
       "</style>\n",
       "<table border=\"1\" class=\"dataframe\">\n",
       "  <thead>\n",
       "    <tr style=\"text-align: right;\">\n",
       "      <th></th>\n",
       "      <th>url</th>\n",
       "      <th>Label</th>\n",
       "      <th>text_tokenized</th>\n",
       "      <th>text_stemmed</th>\n",
       "    </tr>\n",
       "  </thead>\n",
       "  <tbody>\n",
       "    <tr>\n",
       "      <th>48702</th>\n",
       "      <td>web.inter.nl.net/hcc/Damburgh_Clun_forest/engl...</td>\n",
       "      <td>good</td>\n",
       "      <td>[web, inter, nl, net, hcc, Damburgh, Clun, for...</td>\n",
       "      <td>[web, inter, nl, net, hcc, damburgh, clun, for...</td>\n",
       "    </tr>\n",
       "    <tr>\n",
       "      <th>167899</th>\n",
       "      <td>echohillorchards.com/</td>\n",
       "      <td>good</td>\n",
       "      <td>[echohillorchards, com]</td>\n",
       "      <td>[echohillorchard, com]</td>\n",
       "    </tr>\n",
       "    <tr>\n",
       "      <th>249684</th>\n",
       "      <td>travelingluck.com/North%20America/Canada/Quebe...</td>\n",
       "      <td>good</td>\n",
       "      <td>[travelingluck, com, North, America, Canada, Q...</td>\n",
       "      <td>[travelingluck, com, north, america, canada, q...</td>\n",
       "    </tr>\n",
       "    <tr>\n",
       "      <th>280913</th>\n",
       "      <td>answers.com/topic/perrault-2</td>\n",
       "      <td>good</td>\n",
       "      <td>[answers, com, topic, perrault]</td>\n",
       "      <td>[answer, com, topic, perrault]</td>\n",
       "    </tr>\n",
       "    <tr>\n",
       "      <th>110874</th>\n",
       "      <td>konabaridm.edu.bd/BOAMAINFINAL/sitekeyverifica...</td>\n",
       "      <td>bad</td>\n",
       "      <td>[konabaridm, edu, bd, BOAMAINFINAL, sitekeyver...</td>\n",
       "      <td>[konabaridm, edu, bd, boamainfin, sitekeyverif...</td>\n",
       "    </tr>\n",
       "  </tbody>\n",
       "</table>\n",
       "</div>"
      ],
      "text/plain": [
       "                                                      url Label  \\\n",
       "48702   web.inter.nl.net/hcc/Damburgh_Clun_forest/engl...  good   \n",
       "167899                              echohillorchards.com/  good   \n",
       "249684  travelingluck.com/North%20America/Canada/Quebe...  good   \n",
       "280913                       answers.com/topic/perrault-2  good   \n",
       "110874  konabaridm.edu.bd/BOAMAINFINAL/sitekeyverifica...   bad   \n",
       "\n",
       "                                           text_tokenized  \\\n",
       "48702   [web, inter, nl, net, hcc, Damburgh, Clun, for...   \n",
       "167899                            [echohillorchards, com]   \n",
       "249684  [travelingluck, com, North, America, Canada, Q...   \n",
       "280913                    [answers, com, topic, perrault]   \n",
       "110874  [konabaridm, edu, bd, BOAMAINFINAL, sitekeyver...   \n",
       "\n",
       "                                             text_stemmed  \n",
       "48702   [web, inter, nl, net, hcc, damburgh, clun, for...  \n",
       "167899                             [echohillorchard, com]  \n",
       "249684  [travelingluck, com, north, america, canada, q...  \n",
       "280913                     [answer, com, topic, perrault]  \n",
       "110874  [konabaridm, edu, bd, boamainfin, sitekeyverif...  "
      ]
     },
     "execution_count": 17,
     "metadata": {},
     "output_type": "execute_result"
    }
   ],
   "source": [
    "dataset.sample(5)"
   ]
  },
  {
   "cell_type": "code",
   "execution_count": 18,
   "id": "ac572ef0",
   "metadata": {},
   "outputs": [],
   "source": [
    "# here after getting all the root words after being stemmed, I am concatening it all back into a string "
   ]
  },
  {
   "cell_type": "code",
   "execution_count": 19,
   "id": "90714f63",
   "metadata": {},
   "outputs": [
    {
     "name": "stdout",
     "output_type": "stream",
     "text": [
      "Getting joiningwords ...\n",
      "Time taken 0.1922826999798417 sec\n"
     ]
    }
   ],
   "source": [
    "print('Getting joiningwords ...')\n",
    "t0= time.perf_counter()\n",
    "dataset['text_sent'] = dataset['text_stemmed'].map(lambda l: ' '.join(l))\n",
    "t1= time.perf_counter() - t0\n",
    "print('Time taken',t1 ,'sec')"
   ]
  },
  {
   "cell_type": "code",
   "execution_count": 20,
   "id": "f5103e1e",
   "metadata": {},
   "outputs": [
    {
     "data": {
      "text/html": [
       "<div>\n",
       "<style scoped>\n",
       "    .dataframe tbody tr th:only-of-type {\n",
       "        vertical-align: middle;\n",
       "    }\n",
       "\n",
       "    .dataframe tbody tr th {\n",
       "        vertical-align: top;\n",
       "    }\n",
       "\n",
       "    .dataframe thead th {\n",
       "        text-align: right;\n",
       "    }\n",
       "</style>\n",
       "<table border=\"1\" class=\"dataframe\">\n",
       "  <thead>\n",
       "    <tr style=\"text-align: right;\">\n",
       "      <th></th>\n",
       "      <th>url</th>\n",
       "      <th>Label</th>\n",
       "      <th>text_tokenized</th>\n",
       "      <th>text_stemmed</th>\n",
       "      <th>text_sent</th>\n",
       "    </tr>\n",
       "  </thead>\n",
       "  <tbody>\n",
       "    <tr>\n",
       "      <th>449610</th>\n",
       "      <td>touring-ohio.com/northeast/akron/akron.html</td>\n",
       "      <td>good</td>\n",
       "      <td>[touring, ohio, com, northeast, akron, akron, ...</td>\n",
       "      <td>[tour, ohio, com, northeast, akron, akron, html]</td>\n",
       "      <td>tour ohio com northeast akron akron html</td>\n",
       "    </tr>\n",
       "    <tr>\n",
       "      <th>434603</th>\n",
       "      <td>southshorecleancities.org/</td>\n",
       "      <td>good</td>\n",
       "      <td>[southshorecleancities, org]</td>\n",
       "      <td>[southshorecleanc, org]</td>\n",
       "      <td>southshorecleanc org</td>\n",
       "    </tr>\n",
       "    <tr>\n",
       "      <th>150756</th>\n",
       "      <td>blog.smalleycreative.com/</td>\n",
       "      <td>good</td>\n",
       "      <td>[blog, smalleycreative, com]</td>\n",
       "      <td>[blog, smalleycr, com]</td>\n",
       "      <td>blog smalleycr com</td>\n",
       "    </tr>\n",
       "    <tr>\n",
       "      <th>342900</th>\n",
       "      <td>freerepublic.com/focus/f-bloggers/2392573/posts</td>\n",
       "      <td>good</td>\n",
       "      <td>[freerepublic, com, focus, f, bloggers, posts]</td>\n",
       "      <td>[freerepubl, com, focu, f, blogger, post]</td>\n",
       "      <td>freerepubl com focu f blogger post</td>\n",
       "    </tr>\n",
       "    <tr>\n",
       "      <th>433479</th>\n",
       "      <td>songkick.com/artists/111215-atrak</td>\n",
       "      <td>good</td>\n",
       "      <td>[songkick, com, artists, atrak]</td>\n",
       "      <td>[songkick, com, artist, atrak]</td>\n",
       "      <td>songkick com artist atrak</td>\n",
       "    </tr>\n",
       "  </tbody>\n",
       "</table>\n",
       "</div>"
      ],
      "text/plain": [
       "                                                    url Label  \\\n",
       "449610      touring-ohio.com/northeast/akron/akron.html  good   \n",
       "434603                       southshorecleancities.org/  good   \n",
       "150756                        blog.smalleycreative.com/  good   \n",
       "342900  freerepublic.com/focus/f-bloggers/2392573/posts  good   \n",
       "433479                songkick.com/artists/111215-atrak  good   \n",
       "\n",
       "                                           text_tokenized  \\\n",
       "449610  [touring, ohio, com, northeast, akron, akron, ...   \n",
       "434603                       [southshorecleancities, org]   \n",
       "150756                       [blog, smalleycreative, com]   \n",
       "342900     [freerepublic, com, focus, f, bloggers, posts]   \n",
       "433479                    [songkick, com, artists, atrak]   \n",
       "\n",
       "                                            text_stemmed  \\\n",
       "449610  [tour, ohio, com, northeast, akron, akron, html]   \n",
       "434603                           [southshorecleanc, org]   \n",
       "150756                            [blog, smalleycr, com]   \n",
       "342900         [freerepubl, com, focu, f, blogger, post]   \n",
       "433479                    [songkick, com, artist, atrak]   \n",
       "\n",
       "                                       text_sent  \n",
       "449610  tour ohio com northeast akron akron html  \n",
       "434603                      southshorecleanc org  \n",
       "150756                        blog smalleycr com  \n",
       "342900        freerepubl com focu f blogger post  \n",
       "433479                 songkick com artist atrak  "
      ]
     },
     "execution_count": 20,
     "metadata": {},
     "output_type": "execute_result"
    }
   ],
   "source": [
    "dataset.sample(5)"
   ]
  },
  {
   "cell_type": "code",
   "execution_count": 21,
   "id": "74a21f58",
   "metadata": {},
   "outputs": [],
   "source": [
    "# showing examples of what i have done in a table and the different stages"
   ]
  },
  {
   "cell_type": "markdown",
   "id": "50bc8c1d",
   "metadata": {},
   "source": [
    "# Visualization"
   ]
  },
  {
   "cell_type": "code",
   "execution_count": 22,
   "id": "bea778a3",
   "metadata": {},
   "outputs": [],
   "source": [
    "#sliceing classes and showing pre-processing for 5 good and bad URLS\n",
    "bad_sites = dataset[dataset.Label == 'bad']\n",
    "good_sites = dataset[dataset.Label == 'good']"
   ]
  },
  {
   "cell_type": "code",
   "execution_count": 23,
   "id": "1768c18f",
   "metadata": {},
   "outputs": [
    {
     "data": {
      "text/html": [
       "<div>\n",
       "<style scoped>\n",
       "    .dataframe tbody tr th:only-of-type {\n",
       "        vertical-align: middle;\n",
       "    }\n",
       "\n",
       "    .dataframe tbody tr th {\n",
       "        vertical-align: top;\n",
       "    }\n",
       "\n",
       "    .dataframe thead th {\n",
       "        text-align: right;\n",
       "    }\n",
       "</style>\n",
       "<table border=\"1\" class=\"dataframe\">\n",
       "  <thead>\n",
       "    <tr style=\"text-align: right;\">\n",
       "      <th></th>\n",
       "      <th>url</th>\n",
       "      <th>Label</th>\n",
       "      <th>text_tokenized</th>\n",
       "      <th>text_stemmed</th>\n",
       "      <th>text_sent</th>\n",
       "    </tr>\n",
       "  </thead>\n",
       "  <tbody>\n",
       "    <tr>\n",
       "      <th>0</th>\n",
       "      <td>nobell.it/70ffb52d079109dca5664cce6f317373782/...</td>\n",
       "      <td>bad</td>\n",
       "      <td>[nobell, it, ffb, d, dca, cce, f, login, SkyPe...</td>\n",
       "      <td>[nobel, it, ffb, d, dca, cce, f, login, skype,...</td>\n",
       "      <td>nobel it ffb d dca cce f login skype com en cg...</td>\n",
       "    </tr>\n",
       "    <tr>\n",
       "      <th>1</th>\n",
       "      <td>www.dghjdgf.com/paypal.co.uk/cycgi-bin/webscrc...</td>\n",
       "      <td>bad</td>\n",
       "      <td>[www, dghjdgf, com, paypal, co, uk, cycgi, bin...</td>\n",
       "      <td>[www, dghjdgf, com, paypal, co, uk, cycgi, bin...</td>\n",
       "      <td>www dghjdgf com paypal co uk cycgi bin webscrc...</td>\n",
       "    </tr>\n",
       "    <tr>\n",
       "      <th>2</th>\n",
       "      <td>serviciosbys.com/paypal.cgi.bin.get-into.herf....</td>\n",
       "      <td>bad</td>\n",
       "      <td>[serviciosbys, com, paypal, cgi, bin, get, int...</td>\n",
       "      <td>[serviciosbi, com, paypal, cgi, bin, get, into...</td>\n",
       "      <td>serviciosbi com paypal cgi bin get into herf s...</td>\n",
       "    </tr>\n",
       "    <tr>\n",
       "      <th>3</th>\n",
       "      <td>mail.printakid.com/www.online.americanexpress....</td>\n",
       "      <td>bad</td>\n",
       "      <td>[mail, printakid, com, www, online, americanex...</td>\n",
       "      <td>[mail, printakid, com, www, onlin, americanexp...</td>\n",
       "      <td>mail printakid com www onlin americanexpress c...</td>\n",
       "    </tr>\n",
       "    <tr>\n",
       "      <th>4</th>\n",
       "      <td>thewhiskeydregs.com/wp-content/themes/widescre...</td>\n",
       "      <td>bad</td>\n",
       "      <td>[thewhiskeydregs, com, wp, content, themes, wi...</td>\n",
       "      <td>[thewhiskeydreg, com, wp, content, theme, wide...</td>\n",
       "      <td>thewhiskeydreg com wp content theme widescreen...</td>\n",
       "    </tr>\n",
       "  </tbody>\n",
       "</table>\n",
       "</div>"
      ],
      "text/plain": [
       "                                                 url Label  \\\n",
       "0  nobell.it/70ffb52d079109dca5664cce6f317373782/...   bad   \n",
       "1  www.dghjdgf.com/paypal.co.uk/cycgi-bin/webscrc...   bad   \n",
       "2  serviciosbys.com/paypal.cgi.bin.get-into.herf....   bad   \n",
       "3  mail.printakid.com/www.online.americanexpress....   bad   \n",
       "4  thewhiskeydregs.com/wp-content/themes/widescre...   bad   \n",
       "\n",
       "                                      text_tokenized  \\\n",
       "0  [nobell, it, ffb, d, dca, cce, f, login, SkyPe...   \n",
       "1  [www, dghjdgf, com, paypal, co, uk, cycgi, bin...   \n",
       "2  [serviciosbys, com, paypal, cgi, bin, get, int...   \n",
       "3  [mail, printakid, com, www, online, americanex...   \n",
       "4  [thewhiskeydregs, com, wp, content, themes, wi...   \n",
       "\n",
       "                                        text_stemmed  \\\n",
       "0  [nobel, it, ffb, d, dca, cce, f, login, skype,...   \n",
       "1  [www, dghjdgf, com, paypal, co, uk, cycgi, bin...   \n",
       "2  [serviciosbi, com, paypal, cgi, bin, get, into...   \n",
       "3  [mail, printakid, com, www, onlin, americanexp...   \n",
       "4  [thewhiskeydreg, com, wp, content, theme, wide...   \n",
       "\n",
       "                                           text_sent  \n",
       "0  nobel it ffb d dca cce f login skype com en cg...  \n",
       "1  www dghjdgf com paypal co uk cycgi bin webscrc...  \n",
       "2  serviciosbi com paypal cgi bin get into herf s...  \n",
       "3  mail printakid com www onlin americanexpress c...  \n",
       "4  thewhiskeydreg com wp content theme widescreen...  "
      ]
     },
     "execution_count": 23,
     "metadata": {},
     "output_type": "execute_result"
    }
   ],
   "source": [
    "bad_sites.head()"
   ]
  },
  {
   "cell_type": "code",
   "execution_count": 24,
   "id": "e9c31b3e",
   "metadata": {},
   "outputs": [
    {
     "data": {
      "text/html": [
       "<div>\n",
       "<style scoped>\n",
       "    .dataframe tbody tr th:only-of-type {\n",
       "        vertical-align: middle;\n",
       "    }\n",
       "\n",
       "    .dataframe tbody tr th {\n",
       "        vertical-align: top;\n",
       "    }\n",
       "\n",
       "    .dataframe thead th {\n",
       "        text-align: right;\n",
       "    }\n",
       "</style>\n",
       "<table border=\"1\" class=\"dataframe\">\n",
       "  <thead>\n",
       "    <tr style=\"text-align: right;\">\n",
       "      <th></th>\n",
       "      <th>url</th>\n",
       "      <th>Label</th>\n",
       "      <th>text_tokenized</th>\n",
       "      <th>text_stemmed</th>\n",
       "      <th>text_sent</th>\n",
       "    </tr>\n",
       "  </thead>\n",
       "  <tbody>\n",
       "    <tr>\n",
       "      <th>18231</th>\n",
       "      <td>esxcc.com/js/index.htm?us.battle.net/noghn/en/...</td>\n",
       "      <td>good</td>\n",
       "      <td>[esxcc, com, js, index, htm, us, battle, net, ...</td>\n",
       "      <td>[esxcc, com, js, index, htm, us, battl, net, n...</td>\n",
       "      <td>esxcc com js index htm us battl net noghn en r...</td>\n",
       "    </tr>\n",
       "    <tr>\n",
       "      <th>18232</th>\n",
       "      <td>www\u000eeira¯&amp;nvinip¿ncH¯wVö%ÆåyDaHðû/ÏyEùu\u0003Ë\\nÓ\u00176...</td>\n",
       "      <td>good</td>\n",
       "      <td>[www, eira, nvinip, ncH, wV, yDaH, yE, u, rT, ...</td>\n",
       "      <td>[www, eira, nvinip, nch, wv, ydah, ye, u, rt, ...</td>\n",
       "      <td>www eira nvinip nch wv ydah ye u rt u g m i xz...</td>\n",
       "    </tr>\n",
       "    <tr>\n",
       "      <th>18233</th>\n",
       "      <td>'www.institutocgr.coo/web/media/syqvem/dk-\u000fóij...</td>\n",
       "      <td>good</td>\n",
       "      <td>[www, institutocgr, coo, web, media, syqvem, d...</td>\n",
       "      <td>[www, institutocgr, coo, web, media, syqvem, d...</td>\n",
       "      <td>www institutocgr coo web media syqvem dk ij r ...</td>\n",
       "    </tr>\n",
       "    <tr>\n",
       "      <th>18234</th>\n",
       "      <td>\u0011\u0018Yìê\f",
       "koãÕ»Î§DéÎ\u0002l½ñ¡ââqtò¸/à; Í</td>\n",
       "      <td>good</td>\n",
       "      <td>[Y, ko, D, l, qt]</td>\n",
       "      <td>[y, ko, d, l, qt]</td>\n",
       "      <td>y ko d l qt</td>\n",
       "    </tr>\n",
       "    <tr>\n",
       "      <th>18236</th>\n",
       "      <td>ruta89fm.com/images/AS@Vies/1i75cf7b16vc&lt;F\u0015d16...</td>\n",
       "      <td>good</td>\n",
       "      <td>[ruta, fm, com, images, AS, Vies, i, cf, b, vc...</td>\n",
       "      <td>[ruta, fm, com, imag, as, vie, i, cf, b, vc, f...</td>\n",
       "      <td>ruta fm com imag as vie i cf b vc f d b g sd v...</td>\n",
       "    </tr>\n",
       "  </tbody>\n",
       "</table>\n",
       "</div>"
      ],
      "text/plain": [
       "                                                     url Label  \\\n",
       "18231  esxcc.com/js/index.htm?us.battle.net/noghn/en/...  good   \n",
       "18232  www\u000eeira¯&nvinip¿ncH¯wVö%ÆåyDaHðû/ÏyEùu\u0003Ë\\nÓ\u00176...  good   \n",
       "18233  'www.institutocgr.coo/web/media/syqvem/dk-\u000fóij...  good   \n",
       "18234                  \u0011\u0018Yìê\n",
       "koãÕ»Î§DéÎ\u0002l½ñ¡ââqtò¸/à; Í  good   \n",
       "18236  ruta89fm.com/images/AS@Vies/1i75cf7b16vc<F\u0015d16...  good   \n",
       "\n",
       "                                          text_tokenized  \\\n",
       "18231  [esxcc, com, js, index, htm, us, battle, net, ...   \n",
       "18232  [www, eira, nvinip, ncH, wV, yDaH, yE, u, rT, ...   \n",
       "18233  [www, institutocgr, coo, web, media, syqvem, d...   \n",
       "18234                                  [Y, ko, D, l, qt]   \n",
       "18236  [ruta, fm, com, images, AS, Vies, i, cf, b, vc...   \n",
       "\n",
       "                                            text_stemmed  \\\n",
       "18231  [esxcc, com, js, index, htm, us, battl, net, n...   \n",
       "18232  [www, eira, nvinip, nch, wv, ydah, ye, u, rt, ...   \n",
       "18233  [www, institutocgr, coo, web, media, syqvem, d...   \n",
       "18234                                  [y, ko, d, l, qt]   \n",
       "18236  [ruta, fm, com, imag, as, vie, i, cf, b, vc, f...   \n",
       "\n",
       "                                               text_sent  \n",
       "18231  esxcc com js index htm us battl net noghn en r...  \n",
       "18232  www eira nvinip nch wv ydah ye u rt u g m i xz...  \n",
       "18233  www institutocgr coo web media syqvem dk ij r ...  \n",
       "18234                                        y ko d l qt  \n",
       "18236  ruta fm com imag as vie i cf b vc f d b g sd v...  "
      ]
     },
     "execution_count": 24,
     "metadata": {},
     "output_type": "execute_result"
    }
   ],
   "source": [
    "good_sites.head()"
   ]
  },
  {
   "cell_type": "markdown",
   "id": "92cdb247",
   "metadata": {},
   "source": [
    "# Creating the model "
   ]
  },
  {
   "cell_type": "code",
   "execution_count": 25,
   "id": "46a2bd82",
   "metadata": {},
   "outputs": [],
   "source": [
    "## using the CountVectorizer from scikit-learn to convert text data into numerical feature vectors."
   ]
  },
  {
   "cell_type": "code",
   "execution_count": 26,
   "id": "617c0fd9",
   "metadata": {},
   "outputs": [],
   "source": [
    "cv = CountVectorizer() "
   ]
  },
  {
   "cell_type": "code",
   "execution_count": 27,
   "id": "26292932",
   "metadata": {},
   "outputs": [],
   "source": [
    "feature = cv.fit_transform(dataset.text_sent)"
   ]
  },
  {
   "cell_type": "code",
   "execution_count": 28,
   "id": "32d308ce",
   "metadata": {},
   "outputs": [
    {
     "data": {
      "text/plain": [
       "array([[0, 0, 0, ..., 0, 0, 0],\n",
       "       [0, 0, 0, ..., 0, 0, 0],\n",
       "       [0, 0, 0, ..., 0, 0, 0],\n",
       "       [0, 0, 0, ..., 0, 0, 0],\n",
       "       [0, 0, 0, ..., 0, 0, 0]], dtype=int64)"
      ]
     },
     "execution_count": 28,
     "metadata": {},
     "output_type": "execute_result"
    }
   ],
   "source": [
    "feature[:5].toarray()"
   ]
  },
  {
   "cell_type": "markdown",
   "id": "61283d3e",
   "metadata": {},
   "source": [
    "# Spliting the data"
   ]
  },
  {
   "cell_type": "code",
   "execution_count": 29,
   "id": "317adc99",
   "metadata": {},
   "outputs": [],
   "source": [
    "trainX, testX, trainY, testY = train_test_split(feature, dataset.Label)"
   ]
  },
  {
   "cell_type": "code",
   "execution_count": 30,
   "id": "fb2b6cb0",
   "metadata": {},
   "outputs": [],
   "source": [
    "#splitting your dataset into training and testing sets using train_test_split from scikit-learn."
   ]
  },
  {
   "cell_type": "markdown",
   "id": "15ee5cdd",
   "metadata": {},
   "source": [
    "# KNN"
   ]
  },
  {
   "cell_type": "code",
   "execution_count": 31,
   "id": "11ae5163",
   "metadata": {},
   "outputs": [
    {
     "name": "stdout",
     "output_type": "stream",
     "text": [
      "KNeighborsClassifier(n_neighbors=2)\n"
     ]
    }
   ],
   "source": [
    "model = KNeighborsClassifier(n_neighbors=2)\n",
    "model.fit(trainX, trainY)\n",
    "print(model)\n",
    "#this next section is testing the KNN algorithm to check for accuracy scores."
   ]
  },
  {
   "cell_type": "code",
   "execution_count": 30,
   "id": "8f8456b6",
   "metadata": {},
   "outputs": [
    {
     "data": {
      "text/plain": [
       "0.9332008125996636"
      ]
     },
     "execution_count": 30,
     "metadata": {},
     "output_type": "execute_result"
    }
   ],
   "source": [
    "model.score(testX, testY) # this will take about 10 minutes to load"
   ]
  },
  {
   "cell_type": "code",
   "execution_count": 32,
   "id": "ff68289e",
   "metadata": {},
   "outputs": [
    {
     "ename": "NameError",
     "evalue": "name 'Scores_ml' is not defined",
     "output_type": "error",
     "traceback": [
      "\u001b[1;31m---------------------------------------------------------------------------\u001b[0m",
      "\u001b[1;31mNameError\u001b[0m                                 Traceback (most recent call last)",
      "Cell \u001b[1;32mIn[32], line 1\u001b[0m\n\u001b[1;32m----> 1\u001b[0m Scores_ml[\u001b[38;5;124m'\u001b[39m\u001b[38;5;124mknn\u001b[39m\u001b[38;5;124m'\u001b[39m] \u001b[38;5;241m=\u001b[39m np\u001b[38;5;241m.\u001b[39mround(model\u001b[38;5;241m.\u001b[39mscore(testX,testY),\u001b[38;5;241m2\u001b[39m)\n",
      "\u001b[1;31mNameError\u001b[0m: name 'Scores_ml' is not defined"
     ]
    }
   ],
   "source": [
    "Scores_ml['knn'] = np.round(model.score(testX,testY),2) \n",
    "#this will not run due to dataset containing words, therefore it was not an ideal algortihm to use."
   ]
  },
  {
   "cell_type": "markdown",
   "id": "9fbdb8e1",
   "metadata": {},
   "source": [
    "# MultinomialNB"
   ]
  },
  {
   "cell_type": "code",
   "execution_count": null,
   "id": "e7f8fcd6",
   "metadata": {},
   "outputs": [],
   "source": [
    "mnb = MultinomialNB()\n",
    "#next section is me using MNB to see accuracy scores."
   ]
  },
  {
   "cell_type": "code",
   "execution_count": null,
   "id": "c3f81b29",
   "metadata": {},
   "outputs": [],
   "source": [
    "mnb.score(testX,testY)"
   ]
  },
  {
   "cell_type": "code",
   "execution_count": null,
   "id": "4ad6d00a",
   "metadata": {},
   "outputs": [],
   "source": [
    "Scores_ml = {}\n",
    "Scores_ml['MultinomialNB'] = np.round(mnb.score(testX,testY),2)"
   ]
  },
  {
   "cell_type": "code",
   "execution_count": null,
   "id": "204e53fe",
   "metadata": {},
   "outputs": [],
   "source": [
    "print('Training Accuracy :',mnb.score(trainX,trainY))\n",
    "print('Testing Accuracy :',mnb.score(testX,testY))\n",
    "con_mat = pd.DataFrame(confusion_matrix(mnb.predict(testX), testY),\n",
    "            columns = ['Predicted:Bad', 'Predicted:Good'],\n",
    "            index = ['Actual:Bad', 'Actual:Good'])\n",
    "\n",
    "\n",
    "print('\\nCLASSIFICATION REPORT\\n')\n",
    "print(classification_report(mnb.predict(testX), testY,\n",
    "                            target_names =['Bad','Good']))\n",
    "\n",
    "print('\\nCONFUSION MATRIX')\n",
    "plt.figure(figsize= (6,4))\n",
    "sns.heatmap(con_mat, annot = True,fmt='d',cmap=\"YlGnBu\")"
   ]
  },
  {
   "cell_type": "markdown",
   "id": "f667e626",
   "metadata": {},
   "source": [
    "# LogisticRegression"
   ]
  },
  {
   "cell_type": "code",
   "execution_count": null,
   "id": "7520c45a",
   "metadata": {},
   "outputs": [],
   "source": [
    "lr = LogisticRegression()\n",
    "# this section is testing Logsitic regression to test accuracy scores."
   ]
  },
  {
   "cell_type": "code",
   "execution_count": null,
   "id": "3c261180",
   "metadata": {},
   "outputs": [],
   "source": [
    "lr.fit(trainX,trainY)"
   ]
  },
  {
   "cell_type": "code",
   "execution_count": null,
   "id": "0ee05da3",
   "metadata": {},
   "outputs": [],
   "source": [
    "lr.score(testX,testY)"
   ]
  },
  {
   "cell_type": "markdown",
   "id": "3655c87e",
   "metadata": {},
   "source": [
    "Logistic Regression is giving 96% accuracy"
   ]
  },
  {
   "cell_type": "code",
   "execution_count": null,
   "id": "fc11302c",
   "metadata": {},
   "outputs": [],
   "source": [
    "Scores_ml['Logistic Regression'] = np.round(lr.score(testX,testY),2)"
   ]
  },
  {
   "cell_type": "code",
   "execution_count": null,
   "id": "3f7e2193",
   "metadata": {},
   "outputs": [],
   "source": [
    "print('Training Accuracy :',lr.score(trainX,trainY))\n",
    "print('Testing Accuracy :',lr.score(testX,testY))\n",
    "con_mat = pd.DataFrame(confusion_matrix(lr.predict(testX), testY),\n",
    "            columns = ['Predicted:Bad', 'Predicted:Good'],\n",
    "            index = ['Actual:Bad', 'Actual:Good'])\n",
    "\n",
    "\n",
    "print('\\nCLASSIFICATION REPORT\\n')\n",
    "print(classification_report(lr.predict(testX), testY,\n",
    "                            target_names =['Bad','Good']))\n",
    "\n",
    "print('\\nCONFUSION MATRIX')\n",
    "plt.figure(figsize= (6,4))\n",
    "sns.heatmap(con_mat, annot = True,fmt='d',cmap=\"YlGnBu\")"
   ]
  },
  {
   "cell_type": "markdown",
   "id": "902f3126",
   "metadata": {},
   "source": [
    "# Loading the best model "
   ]
  },
  {
   "cell_type": "code",
   "execution_count": null,
   "id": "66c0157e",
   "metadata": {},
   "outputs": [],
   "source": [
    "pipeline_ls = make_pipeline(CountVectorizer(tokenizer = RegexpTokenizer(r'[A-Za-z]+').tokenize,stop_words='english'), LogisticRegression())"
   ]
  },
  {
   "cell_type": "code",
   "execution_count": null,
   "id": "78c19dda",
   "metadata": {},
   "outputs": [],
   "source": [
    "trainX, testX, trainY, testY = train_test_split(dataset.url, dataset.Label)"
   ]
  },
  {
   "cell_type": "code",
   "execution_count": null,
   "id": "1024a8bf",
   "metadata": {},
   "outputs": [],
   "source": [
    "pipeline_ls.fit(trainX,trainY)"
   ]
  },
  {
   "cell_type": "code",
   "execution_count": null,
   "id": "312bfd42",
   "metadata": {},
   "outputs": [],
   "source": [
    "pipeline_ls.score(testX,testY) "
   ]
  },
  {
   "cell_type": "code",
   "execution_count": null,
   "id": "efd9832f",
   "metadata": {},
   "outputs": [],
   "source": [
    "pickle.dump(pipeline_ls,open('phishing.pkl','wb'))"
   ]
  },
  {
   "cell_type": "code",
   "execution_count": null,
   "id": "e31fa8c8",
   "metadata": {},
   "outputs": [],
   "source": [
    "loaded_model = pickle.load(open('phishing.pkl', 'rb'))\n",
    "result = loaded_model.score(testX,testY)\n",
    "print(result)"
   ]
  },
  {
   "cell_type": "markdown",
   "id": "8878fc79",
   "metadata": {},
   "source": [
    "# Testing the model with a URL"
   ]
  },
  {
   "cell_type": "code",
   "execution_count": null,
   "id": "f5393105",
   "metadata": {},
   "outputs": [],
   "source": [
    "# testing different URLS and prediction scores to test ML model effectivess."
   ]
  },
  {
   "cell_type": "code",
   "execution_count": null,
   "id": "00ef237a",
   "metadata": {},
   "outputs": [],
   "source": [
    "predict_good = {'www.tec-jo.com/admin_site/upload/files/W2B...'} \n",
    "loaded_model = pickle.load(open('phishing.pkl', 'rb'))\n",
    "result = loaded_model.predict(predict_good)\n",
    "prediction_score = loaded_model.predict_proba(predict_good)\n",
    "\n",
    "print(result)\n",
    "print(\"Prediction Score:\", prediction_score[0])"
   ]
  },
  {
   "cell_type": "code",
   "execution_count": 49,
   "id": "5c2060fc",
   "metadata": {},
   "outputs": [],
   "source": [
    "#bad # good "
   ]
  },
  {
   "cell_type": "code",
   "execution_count": null,
   "id": "0fbc4b45",
   "metadata": {},
   "outputs": [],
   "source": []
  }
 ],
 "metadata": {
  "kernelspec": {
   "display_name": "Python 3 (ipykernel)",
   "language": "python",
   "name": "python3"
  },
  "language_info": {
   "codemirror_mode": {
    "name": "ipython",
    "version": 3
   },
   "file_extension": ".py",
   "mimetype": "text/x-python",
   "name": "python",
   "nbconvert_exporter": "python",
   "pygments_lexer": "ipython3",
   "version": "3.11.5"
  }
 },
 "nbformat": 4,
 "nbformat_minor": 5
}
